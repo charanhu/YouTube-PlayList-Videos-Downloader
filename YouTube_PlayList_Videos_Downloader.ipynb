{
 "cells": [
  {
   "cell_type": "code",
   "execution_count": null,
   "metadata": {},
   "outputs": [],
   "source": [
    "# Python Code to Download YouTube PlayList Videos\n",
    "\n",
    "# Importing Required Modules\n",
    "from pytube import Playlist\n",
    "\n",
    "# To Download YouTube PlayList Videos\n",
    "play_list = Playlist(\"Play List URL\")\n",
    "\n",
    "# To Check PlayList Title\n",
    "print(\"Play List Title: \", play_list.title)\n",
    "\n",
    "# For Loop to Download All Videos\n",
    "for video in play_list.videos:\n",
    "    # To Check Video Title\n",
    "    print(video.title)\n",
    "    # To Download Video\n",
    "    video.streams.get_highest_resolution().download()"
   ]
  }
 ],
 "metadata": {
  "kernelspec": {
   "display_name": "Python 3.10.7 64-bit",
   "language": "python",
   "name": "python3"
  },
  "language_info": {
   "name": "python",
   "version": "3.10.7"
  },
  "orig_nbformat": 4,
  "vscode": {
   "interpreter": {
    "hash": "26de051ba29f2982a8de78e945f0abaf191376122a1563185a90213a26c5da77"
   }
  }
 },
 "nbformat": 4,
 "nbformat_minor": 2
}
